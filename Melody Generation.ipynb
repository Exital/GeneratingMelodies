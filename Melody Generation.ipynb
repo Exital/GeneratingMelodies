{
 "cells": [
  {
   "cell_type": "markdown",
   "id": "23b4aba9",
   "metadata": {},
   "source": [
    "# Generation melodies with RNN-LSTM"
   ]
  },
  {
   "cell_type": "code",
   "execution_count": 1,
   "id": "163610c0",
   "metadata": {},
   "outputs": [],
   "source": [
    "from preprocess import PreProcessor\n",
    "from hyperparameters import preprocessor_params\n",
    "from training import Trainer\n",
    "from rnn_lstm import RnnLstm\n",
    "from hyperparameters import melody_generator_params\n",
    "from melody_generation import MelodyGenerator\n",
    "from music21 import midi\n",
    "\n",
    "\n",
    "TRAIN = True"
   ]
  },
  {
   "cell_type": "markdown",
   "id": "76efefca",
   "metadata": {},
   "source": [
    "## Preprocessing stage\n",
    "\n",
    "we need to take the data and process it"
   ]
  },
  {
   "cell_type": "code",
   "execution_count": 2,
   "id": "4f40fcdd",
   "metadata": {},
   "outputs": [
    {
     "name": "stdout",
     "output_type": "stream",
     "text": [
      "Loading songs from \"dataset/deutschl/test\"...\n",
      "Loaded 12 songs.\n",
      "Removing non-acceptable notes & rests duration songs ...\n",
      "Removed 0 songs.\n",
      "Transposing songs to C maj / A min key...\n",
      "Encoding the dataset into time series representation files...\n",
      "Generating single file dataset & unique mapping...\n",
      "processed_dataset/full_processed_dataset - single dataset file created!\n",
      "processed_dataset/mapping.json - JSON mapping file created!\n"
     ]
    }
   ],
   "source": [
    "if TRAIN:\n",
    "    pre = PreProcessor(**preprocessor_params)\n",
    "    x, y = pre.process(remove_non_acceptable_durations=True, transpose=True)"
   ]
  },
  {
   "cell_type": "markdown",
   "id": "b79f3ce6",
   "metadata": {},
   "source": [
    "## Creating a RNN-LSTM model\n",
    "\n",
    "more info about rnn lstm model and why we have chosen it"
   ]
  },
  {
   "cell_type": "code",
   "execution_count": 3,
   "id": "df070212",
   "metadata": {},
   "outputs": [
    {
     "name": "stdout",
     "output_type": "stream",
     "text": [
      "Model: \"model\"\n",
      "_________________________________________________________________\n",
      "Layer (type)                 Output Shape              Param #   \n",
      "=================================================================\n",
      "input_1 (InputLayer)         [(None, None, 18)]        0         \n",
      "_________________________________________________________________\n",
      "lstm (LSTM)                  (None, 256)               281600    \n",
      "_________________________________________________________________\n",
      "dropout (Dropout)            (None, 256)               0         \n",
      "_________________________________________________________________\n",
      "dense (Dense)                (None, 18)                4626      \n",
      "=================================================================\n",
      "Total params: 286,226\n",
      "Trainable params: 286,226\n",
      "Non-trainable params: 0\n",
      "_________________________________________________________________\n"
     ]
    }
   ],
   "source": [
    "if TRAIN:\n",
    "    rnn = RnnLstm(pre.outputs, [256], 0.001, pre.mapping_file)"
   ]
  },
  {
   "cell_type": "markdown",
   "id": "93e9f9b9",
   "metadata": {},
   "source": [
    "## Training the model\n",
    "\n",
    "some more info about training"
   ]
  },
  {
   "cell_type": "code",
   "execution_count": 4,
   "id": "7cd12aaa",
   "metadata": {},
   "outputs": [
    {
     "name": "stdout",
     "output_type": "stream",
     "text": [
      "Epoch 1/50\n",
      "WARNING:tensorflow:AutoGraph could not transform <function Model.make_train_function.<locals>.train_function at 0x16e48a0d0> and will run it as-is.\n",
      "Please report this to the TensorFlow team. When filing the bug, set the verbosity to 10 (on Linux, `export AUTOGRAPH_VERBOSITY=10`) and attach the full output.\n",
      "Cause: unsupported operand type(s) for -: 'NoneType' and 'int'\n",
      "To silence this warning, decorate the function with @tf.autograph.experimental.do_not_convert\n",
      "WARNING: AutoGraph could not transform <function Model.make_train_function.<locals>.train_function at 0x16e48a0d0> and will run it as-is.\n",
      "Please report this to the TensorFlow team. When filing the bug, set the verbosity to 10 (on Linux, `export AUTOGRAPH_VERBOSITY=10`) and attach the full output.\n",
      "Cause: unsupported operand type(s) for -: 'NoneType' and 'int'\n",
      "To silence this warning, decorate the function with @tf.autograph.experimental.do_not_convert\n"
     ]
    },
    {
     "name": "stderr",
     "output_type": "stream",
     "text": [
      "2021-08-25 12:14:00.104117: I tensorflow/compiler/mlir/mlir_graph_optimization_pass.cc:116] None of the MLIR optimization passes are enabled (registered 2)\n",
      "2021-08-25 12:14:00.104305: W tensorflow/core/platform/profile_utils/cpu_utils.cc:126] Failed to get CPU frequency: 0 Hz\n"
     ]
    },
    {
     "name": "stdout",
     "output_type": "stream",
     "text": [
      "40/40 [==============================] - 2s 30ms/step - loss: 1.9405 - accuracy: 0.5852\n",
      "Epoch 2/50\n",
      "40/40 [==============================] - 1s 29ms/step - loss: 1.1558 - accuracy: 0.7416\n",
      "Epoch 3/50\n",
      "40/40 [==============================] - 1s 29ms/step - loss: 1.1265 - accuracy: 0.7433\n",
      "Epoch 4/50\n",
      "40/40 [==============================] - 1s 30ms/step - loss: 1.0848 - accuracy: 0.7539\n",
      "Epoch 5/50\n",
      "40/40 [==============================] - 1s 29ms/step - loss: 1.0090 - accuracy: 0.7658\n",
      "Epoch 6/50\n",
      "40/40 [==============================] - 1s 28ms/step - loss: 1.0198 - accuracy: 0.7610\n",
      "Epoch 7/50\n",
      "40/40 [==============================] - 1s 28ms/step - loss: 1.0163 - accuracy: 0.7504\n",
      "Epoch 8/50\n",
      "40/40 [==============================] - 1s 29ms/step - loss: 0.9883 - accuracy: 0.7540\n",
      "Epoch 9/50\n",
      "40/40 [==============================] - 1s 28ms/step - loss: 0.8860 - accuracy: 0.7778\n",
      "Epoch 10/50\n",
      "40/40 [==============================] - 1s 32ms/step - loss: 0.8934 - accuracy: 0.7729\n",
      "Epoch 11/50\n",
      "40/40 [==============================] - 1s 29ms/step - loss: 0.8556 - accuracy: 0.7696\n",
      "Epoch 12/50\n",
      "40/40 [==============================] - 1s 36ms/step - loss: 0.8285 - accuracy: 0.7687\n",
      "Epoch 13/50\n",
      "40/40 [==============================] - 1s 30ms/step - loss: 0.7612 - accuracy: 0.7740\n",
      "Epoch 14/50\n",
      "40/40 [==============================] - 1s 33ms/step - loss: 0.6909 - accuracy: 0.7866\n",
      "Epoch 15/50\n",
      "40/40 [==============================] - 1s 29ms/step - loss: 0.7373 - accuracy: 0.7680\n",
      "Epoch 16/50\n",
      "40/40 [==============================] - 1s 34ms/step - loss: 0.7240 - accuracy: 0.7677\n",
      "Epoch 17/50\n",
      "40/40 [==============================] - 1s 29ms/step - loss: 0.6836 - accuracy: 0.7739\n",
      "Epoch 18/50\n",
      "40/40 [==============================] - 1s 28ms/step - loss: 0.6186 - accuracy: 0.7908\n",
      "Epoch 19/50\n",
      "40/40 [==============================] - 1s 28ms/step - loss: 0.6150 - accuracy: 0.7874\n",
      "Epoch 20/50\n",
      "40/40 [==============================] - 1s 28ms/step - loss: 0.5543 - accuracy: 0.8108\n",
      "Epoch 21/50\n",
      "40/40 [==============================] - 1s 29ms/step - loss: 0.5923 - accuracy: 0.7898\n",
      "Epoch 22/50\n",
      "40/40 [==============================] - 1s 29ms/step - loss: 0.5598 - accuracy: 0.8043\n",
      "Epoch 23/50\n",
      "40/40 [==============================] - 1s 29ms/step - loss: 0.5214 - accuracy: 0.8190\n",
      "Epoch 24/50\n",
      "40/40 [==============================] - 1s 29ms/step - loss: 0.4682 - accuracy: 0.8278\n",
      "Epoch 25/50\n",
      "40/40 [==============================] - 1s 29ms/step - loss: 0.4807 - accuracy: 0.8251\n",
      "Epoch 26/50\n",
      "40/40 [==============================] - 1s 28ms/step - loss: 0.4508 - accuracy: 0.8394\n",
      "Epoch 27/50\n",
      "40/40 [==============================] - 1s 29ms/step - loss: 0.4294 - accuracy: 0.8413\n",
      "Epoch 28/50\n",
      "40/40 [==============================] - 1s 29ms/step - loss: 0.3401 - accuracy: 0.8839\n",
      "Epoch 29/50\n",
      "40/40 [==============================] - 1s 28ms/step - loss: 0.3438 - accuracy: 0.8857\n",
      "Epoch 30/50\n",
      "40/40 [==============================] - 1s 29ms/step - loss: 0.3438 - accuracy: 0.8859\n",
      "Epoch 31/50\n",
      "40/40 [==============================] - 1s 28ms/step - loss: 0.2911 - accuracy: 0.9030\n",
      "Epoch 32/50\n",
      "40/40 [==============================] - 1s 27ms/step - loss: 0.2685 - accuracy: 0.9013\n",
      "Epoch 33/50\n",
      "40/40 [==============================] - 1s 28ms/step - loss: 0.2966 - accuracy: 0.9045\n",
      "Epoch 34/50\n",
      "40/40 [==============================] - 1s 28ms/step - loss: 0.2301 - accuracy: 0.9267\n",
      "Epoch 35/50\n",
      "40/40 [==============================] - 1s 29ms/step - loss: 0.2294 - accuracy: 0.9284\n",
      "Epoch 36/50\n",
      "40/40 [==============================] - 1s 29ms/step - loss: 0.1924 - accuracy: 0.9424\n",
      "Epoch 37/50\n",
      "40/40 [==============================] - 1s 29ms/step - loss: 0.1937 - accuracy: 0.9411\n",
      "Epoch 38/50\n",
      "40/40 [==============================] - 1s 28ms/step - loss: 0.3486 - accuracy: 0.8961\n",
      "Epoch 39/50\n",
      "40/40 [==============================] - 1s 29ms/step - loss: 0.1941 - accuracy: 0.9472\n",
      "Epoch 40/50\n",
      "40/40 [==============================] - 1s 29ms/step - loss: 0.1769 - accuracy: 0.9448\n",
      "Epoch 41/50\n",
      "40/40 [==============================] - 1s 33ms/step - loss: 0.1787 - accuracy: 0.9402\n",
      "Epoch 42/50\n",
      "40/40 [==============================] - 1s 29ms/step - loss: 0.1269 - accuracy: 0.9654\n",
      "Epoch 43/50\n",
      "40/40 [==============================] - 1s 33ms/step - loss: 0.1043 - accuracy: 0.9742\n",
      "Epoch 44/50\n",
      "40/40 [==============================] - 1s 30ms/step - loss: 0.0969 - accuracy: 0.9789\n",
      "Epoch 45/50\n",
      "40/40 [==============================] - 1s 28ms/step - loss: 0.1153 - accuracy: 0.9671\n",
      "Epoch 46/50\n",
      "40/40 [==============================] - 1s 28ms/step - loss: 0.1909 - accuracy: 0.9419\n",
      "Epoch 47/50\n",
      "40/40 [==============================] - 1s 28ms/step - loss: 0.1273 - accuracy: 0.9658\n",
      "Epoch 48/50\n",
      "40/40 [==============================] - 1s 28ms/step - loss: 0.1004 - accuracy: 0.9704\n",
      "Epoch 49/50\n",
      "40/40 [==============================] - 1s 28ms/step - loss: 0.1171 - accuracy: 0.9632\n",
      "Epoch 50/50\n",
      "40/40 [==============================] - 1s 29ms/step - loss: 0.1600 - accuracy: 0.9590 0s -\n",
      "Model and mapping files saved to trained_models/2021_08_25-12:14:58\n"
     ]
    }
   ],
   "source": [
    "if TRAIN:\n",
    "    trainer = Trainer(rnn)\n",
    "    trainer.fit(x, y, 64)\n",
    "    trainer.save_model(\"trained_models\")"
   ]
  },
  {
   "cell_type": "markdown",
   "id": "0e05ed17",
   "metadata": {},
   "source": [
    "## Generating the melody\n",
    "\n",
    "more info about generation"
   ]
  },
  {
   "cell_type": "code",
   "execution_count": 5,
   "id": "bf08f8d6",
   "metadata": {},
   "outputs": [
    {
     "name": "stdout",
     "output_type": "stream",
     "text": [
      "WARNING:tensorflow:AutoGraph could not transform <function Model.make_predict_function.<locals>.predict_function at 0x177b380d0> and will run it as-is.\n",
      "Please report this to the TensorFlow team. When filing the bug, set the verbosity to 10 (on Linux, `export AUTOGRAPH_VERBOSITY=10`) and attach the full output.\n",
      "Cause: unsupported operand type(s) for -: 'NoneType' and 'int'\n",
      "To silence this warning, decorate the function with @tf.autograph.experimental.do_not_convert\n",
      "WARNING: AutoGraph could not transform <function Model.make_predict_function.<locals>.predict_function at 0x177b380d0> and will run it as-is.\n",
      "Please report this to the TensorFlow team. When filing the bug, set the verbosity to 10 (on Linux, `export AUTOGRAPH_VERBOSITY=10`) and attach the full output.\n",
      "Cause: unsupported operand type(s) for -: 'NoneType' and 'int'\n",
      "To silence this warning, decorate the function with @tf.autograph.experimental.do_not_convert\n"
     ]
    },
    {
     "data": {
      "text/html": [
       "\n",
       "                <div id='midiPlayerDiv9611'></div>\n",
       "                <link rel=\"stylesheet\" href=\"//cuthbertLab.github.io/music21j/css/m21.css\"\n",
       "                    type=\"text/css\" />\n",
       "                <script>\n",
       "                require.config({\n",
       "                    paths: {'music21': '//cuthbertLab.github.io/music21j/src/music21'}\n",
       "                });\n",
       "                require(['music21'], function() {\n",
       "                               mp = new music21.miditools.MidiPlayer();\n",
       "                               mp.addPlayer('#midiPlayerDiv9611');\n",
       "                               mp.base64Load('data:audio/midi;base64,TVRoZAAAAAYAAQACBABNVHJrAAAAFAD/UQMHoSAA/1gEBAIYCIgA/y8ATVRyawAAAgIA/wMAAOAAQADAAIgAkEVajACARQAAkEpahACASgAAkEhahACASAAAkEBahACAQAAAkEVaiACARQAAkENahACAQwAAkEFahACAQQAAkD5aiACAPgAAkEVaiACARQAAkENahACAQwAAkEFahACAQQAAkD5aiACAPgAAkEVaiACARQAAkENahACAQwAAkEBahACAQAAAkDxahgCAPACOAJBKWoQAgEoAAJBMWogAgEwAAJBDWogAgEMAAJBDWoQAgEMAAJA+WoQAgD4AAJA+WogAgD4AAJBDWogAgEMAAJBFWpAAgEUAAJBHWogAgEcAAJBKWoQAgEoAAJBIWogAgEgAAJBAWowAgEAAAJBNWogAgE0AAJBKWoQAgEoAAJBIWoYAgEgAAJBFWoIAgEUAAJBFWogAgEUAAJBDWoQAgEMAAJBBWoQAgEEAAJBBWogAgEEAAJBDWowAgEMAhACQQFqIAIBAAACQTVqIAIBNAACQPFqEAIA8AACQSFqIAIBIAACQQ1qMAIBDAACQPlqIAIA+AACQQ1qIAIBDAACQOVqIAIA5AACQPFqkAIA8AACQTFqIAIBMAACQQ1qEAIBDAACQQFqMAIBAAACQPlqUAIA+AACQR1qEAIBHAACQOVqEAIA5AACQPFqEAIA8AACQQ1qIAIBDAACQPFqIAIA8AIgA/y8A');\n",
       "                        });\n",
       "                </script>"
      ],
      "text/plain": [
       "<IPython.core.display.HTML object>"
      ]
     },
     "metadata": {},
     "output_type": "display_data"
    }
   ],
   "source": [
    "if TRAIN:\n",
    "    gen = MelodyGenerator(**melody_generator_params, model=trainer.model)\n",
    "if not TRAIN:\n",
    "    gen = MelodyGenerator(**melody_generator_params)\n",
    "    gen.load_model(\"trained_models/erk_trained_model\")\n",
    "song = gen.generate_melody(500, 64, 0.85)\n",
    "gen.save_melody(song)\n",
    "\n",
    "mf = midi.MidiFile()\n",
    "mf.open('mel.mid') # path='abc.midi'\n",
    "mf.read()\n",
    "mf.close()\n",
    "s = midi.translate.midiFileToStream(mf)\n",
    "s.show('midi')"
   ]
  },
  {
   "cell_type": "code",
   "execution_count": null,
   "id": "467c27cc",
   "metadata": {},
   "outputs": [],
   "source": [
    "\n"
   ]
  },
  {
   "cell_type": "code",
   "execution_count": null,
   "id": "dd917b18",
   "metadata": {},
   "outputs": [],
   "source": []
  }
 ],
 "metadata": {
  "kernelspec": {
   "display_name": "Python 3 (ipykernel)",
   "language": "python",
   "name": "python3"
  },
  "language_info": {
   "codemirror_mode": {
    "name": "ipython",
    "version": 3
   },
   "file_extension": ".py",
   "mimetype": "text/x-python",
   "name": "python",
   "nbconvert_exporter": "python",
   "pygments_lexer": "ipython3",
   "version": "3.8.10"
  }
 },
 "nbformat": 4,
 "nbformat_minor": 5
}
