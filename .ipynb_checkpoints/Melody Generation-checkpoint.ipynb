{
 "cells": [
  {
   "cell_type": "markdown",
   "id": "23b4aba9",
   "metadata": {},
   "source": [
    "# Generation melodies with RNN-LSTM"
   ]
  },
  {
   "cell_type": "code",
   "execution_count": null,
   "id": "163610c0",
   "metadata": {},
   "outputs": [],
   "source": [
    "from preprocess import PreProcessor\n",
    "from hyperparameters import preprocessor_params\n",
    "from training import Trainer\n",
    "from rnn_lstm import RnnLstm\n",
    "from hyperparameters import melody_generator_params\n",
    "from melody_generation import MelodyGenerator\n",
    "from music21 import midi\n",
    "\n",
    "\n",
    "TRAIN = True"
   ]
  },
  {
   "cell_type": "markdown",
   "id": "76efefca",
   "metadata": {},
   "source": [
    "## Preprocessing stage\n",
    "\n",
    "we need to take the data and process it"
   ]
  },
  {
   "cell_type": "code",
   "execution_count": null,
   "id": "4f40fcdd",
   "metadata": {},
   "outputs": [],
   "source": [
    "if TRAIN:\n",
    "    pre = PreProcessor(**preprocessor_params)\n",
    "    x, y = pre.process(remove_non_acceptable_durations=True, transpose=True)"
   ]
  },
  {
   "cell_type": "markdown",
   "id": "b79f3ce6",
   "metadata": {},
   "source": [
    "## Creating a RNN-LSTM model\n",
    "\n",
    "more info about rnn lstm model and why we have chosen it"
   ]
  },
  {
   "cell_type": "code",
   "execution_count": null,
   "id": "df070212",
   "metadata": {},
   "outputs": [],
   "source": [
    "if TRAIN:\n",
    "    rnn = RnnLstm(pre.outputs, [256], 0.001, pre.mapping_file)"
   ]
  },
  {
   "cell_type": "markdown",
   "id": "93e9f9b9",
   "metadata": {},
   "source": [
    "## Training the model\n",
    "\n",
    "some more info about training"
   ]
  },
  {
   "cell_type": "code",
   "execution_count": null,
   "id": "7cd12aaa",
   "metadata": {},
   "outputs": [],
   "source": [
    "if TRAIN:\n",
    "    trainer = Trainer(rnn)\n",
    "    trainer.fit(x, y, 64)\n",
    "    trainer.save_model(\"trained_models\")"
   ]
  },
  {
   "cell_type": "markdown",
   "id": "0e05ed17",
   "metadata": {},
   "source": [
    "## Generating the melody\n",
    "\n",
    "more info about generation"
   ]
  },
  {
   "cell_type": "code",
   "execution_count": null,
   "id": "bf08f8d6",
   "metadata": {},
   "outputs": [],
   "source": [
    "if TRAIN:\n",
    "    gen = MelodyGenerator(**melody_generator_params, model=trainer.model)\n",
    "if not TRAIN:\n",
    "    gen = MelodyGenerator(**melody_generator_params)\n",
    "    gen.load_model(\"trained_models/erk_trained_model\")\n",
    "song = gen.generate_melody(500, 64, 0.85)\n",
    "gen.save_melody(song)\n",
    "\n",
    "mf = midi.MidiFile()\n",
    "mf.open('mel.mid') # path='abc.midi'\n",
    "mf.read()\n",
    "mf.close()\n",
    "s = midi.translate.midiFileToStream(mf)\n",
    "s.show('midi')"
   ]
  },
  {
   "cell_type": "code",
   "execution_count": null,
   "id": "467c27cc",
   "metadata": {},
   "outputs": [],
   "source": [
    "\n"
   ]
  },
  {
   "cell_type": "code",
   "execution_count": null,
   "id": "dd917b18",
   "metadata": {},
   "outputs": [],
   "source": []
  }
 ],
 "metadata": {
  "kernelspec": {
   "display_name": "Python 3 (ipykernel)",
   "language": "python",
   "name": "python3"
  },
  "language_info": {
   "codemirror_mode": {
    "name": "ipython",
    "version": 3
   },
   "file_extension": ".py",
   "mimetype": "text/x-python",
   "name": "python",
   "nbconvert_exporter": "python",
   "pygments_lexer": "ipython3",
   "version": "3.8.5"
  }
 },
 "nbformat": 4,
 "nbformat_minor": 5
}
